{
 "cells": [
  {
   "cell_type": "markdown",
   "metadata": {},
   "source": [
    "# Function Calling in OpenAI"
   ]
  },
  {
   "cell_type": "code",
   "execution_count": 1,
   "metadata": {},
   "outputs": [],
   "source": [
    "from openai import OpenAI\n",
    "from dotenv import load_dotenv,find_dotenv\n",
    "import json\n",
    "_ : bool = load_dotenv(find_dotenv())\n",
    "client : OpenAI = OpenAI()"
   ]
  },
  {
   "cell_type": "code",
   "execution_count": 2,
   "metadata": {},
   "outputs": [],
   "source": [
    "def get_current_weather(location: str, unit:str='fahrenheit')->str:\n",
    "    \"\"\"get the current weather in given loaction\"\"\"\n",
    "    if \"tokyo\" in location.lower():\n",
    "        return json.dumps({\"loaction\": \"tokyo\", \"temperature\":\"10\", \"unit\":\"celcius\"})\n",
    "    elif \"new york\" in location.lower():\n",
    "        return json.dumps({\"location\": \"new york\", \"temperature\":\"16\",\"unit\": \"fahrenheit\"})\n",
    "    elif \"san francisco\" in location.lower():\n",
    "        return json.dumps({\"location\":\"san francisco\", \"temperature\": \"20\", \"unit\":\"fahrenheit\"})\n",
    "    else:\n",
    "        return json.dumps({\"location\": location,\"temperature\": \"unknown\"})\n",
    "\n"
   ]
  },
  {
   "cell_type": "code",
   "execution_count": 4,
   "metadata": {},
   "outputs": [],
   "source": [
    "from openai.types.chat.chat_completion import ChatCompletionMessage, ChatCompletion\n",
    "# from openai.types.chat.chat_completion import ChatCompletionMessageParam, ChatCompletionMessageParam\n",
    "\n",
    "def run_conversation(main_request: str)->str:\n",
    "    # Step 1: send the conversation and available functions to the model\n",
    "    messages = [{\"role\": \"user\", \"content\": main_request}]\n",
    "    tools = [\n",
    "        {\n",
    "            \"type\": \"function\",\n",
    "            \"function\": {\n",
    "                \"name\": \"get_current_weather\",\n",
    "                \"description\": \"Get the current weather in a given location\",\n",
    "                \"parameters\": {\n",
    "                    \"type\": \"object\",\n",
    "                    \"properties\": {\n",
    "                        \"location\": {\n",
    "                            \"type\": \"string\",\n",
    "                            \"description\": \"The city and state, e.g. San Francisco, CA\",\n",
    "                        },\n",
    "                        \"unit\": {\"type\": \"string\", \"enum\": [\"celsius\", \"fahrenheit\"]},\n",
    "                    },\n",
    "                    \"required\": [\"location\"],\n",
    "                },\n",
    "            },\n",
    "        }\n",
    "    ]\n",
    "\n",
    "    # First Request\n",
    "    response: ChatCompletion = client.chat.completions.create(\n",
    "        model=\"gpt-3.5-turbo-1106\",\n",
    "        messages=messages,\n",
    "        tools=tools,\n",
    "        tool_choice=\"auto\",  # auto is default, but we'll be explicit\n",
    "    )\n",
    "    response_message: ChatCompletionMessage = response.choices[0].message\n",
    "    display(\"* First Response: \", dict(response_message))\n",
    "\n",
    "    tools_calls = response_message.tool_calls\n",
    "    display(list(tools_calls))\n",
    "    # Step 2 check if model want to call a function\n",
    "    if tools_calls:\n",
    "        # step 3 call the function\n",
    "        available_functions = {\n",
    "       \"get_current_weather\": get_current_weather\n",
    "     }\n",
    "        messages.append(response_message)\n",
    "\n",
    "        for tool_call in tools_calls:\n",
    "            function_name = tool_call.function.name\n",
    "            function_to_call = available_functions[function_name]\n",
    "            function_args = json.loads(tool_call.function.arguments)\n",
    "            function_reponse = function_to_call(\n",
    "                location=function_args.get(\"location\"),\n",
    "                unit=function_args.get(\"unit\"),\n",
    "            )\n",
    "\n",
    "            messages.append(\n",
    "                {\n",
    "                    \"tool_call_id\": tool_call.id,\n",
    "                    \"role\": \"tool\",\n",
    "                    \"name\": tool_call.function.name,\n",
    "                    \"content\": function_reponse,\n",
    "                }\n",
    "            ),\n",
    "    display(\"second message\", list(messages))\n",
    "    second_response: ChatCompletion = client.chat.completions.create(\n",
    "        model=\"gpt-3.5-turbo-1106\",\n",
    "        messages=messages,\n",
    "    )\n",
    "    display(\"print seond reponse\", dict(second_response))\n",
    "    response_msg: ChatCompletionMessage =  second_response.choices[0].message.content\n",
    "    return response_msg\n",
    "            "
   ]
  },
  {
   "cell_type": "code",
   "execution_count": 5,
   "metadata": {},
   "outputs": [
    {
     "data": {
      "text/plain": [
       "'* First Response: '"
      ]
     },
     "metadata": {},
     "output_type": "display_data"
    },
    {
     "data": {
      "text/plain": [
       "{'content': None,\n",
       " 'role': 'assistant',\n",
       " 'function_call': None,\n",
       " 'tool_calls': [ChatCompletionMessageToolCall(id='call_mFIjSPsCskjjmpZsiETZZDzm', function=Function(arguments='{\"location\": \"San Francisco, CA\", \"unit\": \"celsius\"}', name='get_current_weather'), type='function'),\n",
       "  ChatCompletionMessageToolCall(id='call_80Q1PDF6dfMzaornGENQRjGA', function=Function(arguments='{\"location\": \"San Francisco, CA\", \"unit\": \"fahrenheit\"}', name='get_current_weather'), type='function')]}"
      ]
     },
     "metadata": {},
     "output_type": "display_data"
    },
    {
     "data": {
      "text/plain": [
       "[ChatCompletionMessageToolCall(id='call_mFIjSPsCskjjmpZsiETZZDzm', function=Function(arguments='{\"location\": \"San Francisco, CA\", \"unit\": \"celsius\"}', name='get_current_weather'), type='function'),\n",
       " ChatCompletionMessageToolCall(id='call_80Q1PDF6dfMzaornGENQRjGA', function=Function(arguments='{\"location\": \"San Francisco, CA\", \"unit\": \"fahrenheit\"}', name='get_current_weather'), type='function')]"
      ]
     },
     "metadata": {},
     "output_type": "display_data"
    },
    {
     "data": {
      "text/plain": [
       "'second message'"
      ]
     },
     "metadata": {},
     "output_type": "display_data"
    },
    {
     "data": {
      "text/plain": [
       "[{'role': 'user', 'content': \"What's the weather like in San Francisco?\"},\n",
       " ChatCompletionMessage(content=None, role='assistant', function_call=None, tool_calls=[ChatCompletionMessageToolCall(id='call_mFIjSPsCskjjmpZsiETZZDzm', function=Function(arguments='{\"location\": \"San Francisco, CA\", \"unit\": \"celsius\"}', name='get_current_weather'), type='function'), ChatCompletionMessageToolCall(id='call_80Q1PDF6dfMzaornGENQRjGA', function=Function(arguments='{\"location\": \"San Francisco, CA\", \"unit\": \"fahrenheit\"}', name='get_current_weather'), type='function')]),\n",
       " {'tool_call_id': 'call_mFIjSPsCskjjmpZsiETZZDzm',\n",
       "  'role': 'tool',\n",
       "  'name': 'get_current_weather',\n",
       "  'content': '{\"location\": \"san francisco\", \"temperature\": \"20\", \"unit\": \"fahrenheit\"}'},\n",
       " {'tool_call_id': 'call_80Q1PDF6dfMzaornGENQRjGA',\n",
       "  'role': 'tool',\n",
       "  'name': 'get_current_weather',\n",
       "  'content': '{\"location\": \"san francisco\", \"temperature\": \"20\", \"unit\": \"fahrenheit\"}'}]"
      ]
     },
     "metadata": {},
     "output_type": "display_data"
    },
    {
     "data": {
      "text/plain": [
       "'print seond reponse'"
      ]
     },
     "metadata": {},
     "output_type": "display_data"
    },
    {
     "data": {
      "text/plain": [
       "{'id': 'chatcmpl-8Q1ZhjLzxjhFnCBr94rgFojLuW1Mn',\n",
       " 'choices': [Choice(finish_reason='stop', index=0, message=ChatCompletionMessage(content='The current weather in San Francisco is 20°C (68°F).', role='assistant', function_call=None, tool_calls=None))],\n",
       " 'created': 1701213273,\n",
       " 'model': 'gpt-3.5-turbo-1106',\n",
       " 'object': 'chat.completion',\n",
       " 'system_fingerprint': 'fp_eeff13170a',\n",
       " 'usage': CompletionUsage(completion_tokens=14, prompt_tokens=131, total_tokens=145)}"
      ]
     },
     "metadata": {},
     "output_type": "display_data"
    },
    {
     "data": {
      "text/plain": [
       "'The current weather in San Francisco is 20°C (68°F).'"
      ]
     },
     "execution_count": 5,
     "metadata": {},
     "output_type": "execute_result"
    }
   ],
   "source": [
    "run_conversation(\"What's the weather like in San Francisco?\")"
   ]
  }
 ],
 "metadata": {
  "kernelspec": {
   "display_name": "py3_11",
   "language": "python",
   "name": "python3"
  },
  "language_info": {
   "codemirror_mode": {
    "name": "ipython",
    "version": 3
   },
   "file_extension": ".py",
   "mimetype": "text/x-python",
   "name": "python",
   "nbconvert_exporter": "python",
   "pygments_lexer": "ipython3",
   "version": "3.11.5"
  }
 },
 "nbformat": 4,
 "nbformat_minor": 2
}
