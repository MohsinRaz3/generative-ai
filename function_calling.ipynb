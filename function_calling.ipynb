{
 "cells": [
  {
   "cell_type": "markdown",
   "metadata": {},
   "source": [
    "# Function Calling in OpenAI"
   ]
  },
  {
   "cell_type": "code",
   "execution_count": 3,
   "metadata": {},
   "outputs": [],
   "source": [
    "from openai import OpenAI\n",
    "from dotenv import load_dotenv,find_dotenv\n",
    "import json\n",
    "_ : bool = load_dotenv(find_dotenv())\n",
    "client : OpenAI = OpenAI()"
   ]
  },
  {
   "cell_type": "code",
   "execution_count": 4,
   "metadata": {},
   "outputs": [],
   "source": [
    "def get_current_weather(location: str, unit:str='fahrenheit')->str:\n",
    "    \"\"\"get the current weather in given loaction\"\"\"\n",
    "    if \"tokyo\" in location.lower():\n",
    "        return json.dumps({\"loaction\": \"tokyo\", \"temperature\":\"10\", \"unit\":\"celcius\"})\n",
    "    elif \"new york\" in location.lower():\n",
    "        return json.dumps({\"location\": \"new york\", \"temperature\":\"16\",\"unit\": \"fahrenheit\"})\n",
    "    elif \"san francisco\" in location.lower():\n",
    "        return json.dumps({\"location\":\"san francisco\", \"temperature\": \"20\", \"unit\":\"fahrenheit\"})\n",
    "    else:\n",
    "        return json.dumps({\"location\": location,\"temperature\": \"unknown\"})\n"
   ]
  }
 ],
 "metadata": {
  "kernelspec": {
   "display_name": "py3_11",
   "language": "python",
   "name": "python3"
  },
  "language_info": {
   "codemirror_mode": {
    "name": "ipython",
    "version": 3
   },
   "file_extension": ".py",
   "mimetype": "text/x-python",
   "name": "python",
   "nbconvert_exporter": "python",
   "pygments_lexer": "ipython3",
   "version": "3.11.5"
  }
 },
 "nbformat": 4,
 "nbformat_minor": 2
}
