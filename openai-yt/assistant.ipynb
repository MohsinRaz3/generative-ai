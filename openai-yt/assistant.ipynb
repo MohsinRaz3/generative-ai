{
 "cells": [
  {
   "cell_type": "code",
   "execution_count": 5,
   "metadata": {},
   "outputs": [],
   "source": [
    "import openai\n",
    "client = openai.OpenAI()\n",
    "\n",
    "assistant = client.beta.assistants.create(\n",
    "    name=\"Python Developer\",\n",
    "    instructions=\"You're a Python developer.A task will be assigned to you, you'll solve the task using python language.\",\n",
    "    tools=[{\"type\":\"code_interpreter\"}],\n",
    "    model=\"gpt-3.5-turbo\"\n",
    ")\n",
    "\n",
    "thread = client.beta.threads.create()\n",
    "\n",
    "message = client.beta.threads.messages.create(\n",
    "    thread_id = thread.id,\n",
    "    role=\"user\",\n",
    "    content=\"How to print Pakistan in python.\"\n",
    ")\n",
    "\n",
    "run = client.beta.threads.runs.create(\n",
    "    thread_id=thread.id,\n",
    "    assistant_id= assistant.id,\n",
    "    instructions = \"Please address the user as Mohsin.\" \n",
    ")\n",
    "import time \n",
    "time.sleep(10)\n",
    "\n",
    "run_status = client.beta.threads.runs.retrieve(\n",
    "    thread_id= thread.id,\n",
    "    run_id= run.id\n",
    ")\n",
    "\n",
    "if run_status == \"completed\":\n",
    "    messages = client.beta.threads.messages.list(\n",
    "        thread_id= thread.id\n",
    "    )\n",
    "\n",
    "    for msg in messages.data:\n",
    "        role = role.msg,\n",
    "        content = msg.content[0].text.value\n",
    "        print(f\"{role.capitalize()}: {content}\")"
   ]
  }
 ],
 "metadata": {
  "kernelspec": {
   "display_name": "py3_11",
   "language": "python",
   "name": "python3"
  },
  "language_info": {
   "codemirror_mode": {
    "name": "ipython",
    "version": 3
   },
   "file_extension": ".py",
   "mimetype": "text/x-python",
   "name": "python",
   "nbconvert_exporter": "python",
   "pygments_lexer": "ipython3",
   "version": "3.11.5"
  }
 },
 "nbformat": 4,
 "nbformat_minor": 2
}
