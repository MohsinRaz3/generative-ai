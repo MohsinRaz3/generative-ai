{
 "cells": [
  {
   "cell_type": "markdown",
   "metadata": {},
   "source": [
    "## 1: Create Client"
   ]
  },
  {
   "cell_type": "code",
   "execution_count": 12,
   "metadata": {},
   "outputs": [],
   "source": [
    "from openai import OpenAI\n",
    "from dotenv import load_dotenv, find_dotenv\n",
    "\n",
    "_ : bool = load_dotenv(find_dotenv())\n",
    "\n",
    "client: OpenAI = OpenAI()"
   ]
  },
  {
   "cell_type": "markdown",
   "metadata": {},
   "source": [
    "## 2: Define Functions"
   ]
  },
  {
   "cell_type": "code",
   "execution_count": 13,
   "metadata": {},
   "outputs": [],
   "source": [
    "import requests\n",
    "\n",
    "#user_input = input(\"Enter your crypto name\")\n",
    "\n",
    "def get_crypto(token_name:str):\n",
    "    \n",
    "    url = f\"https://api.coincap.io/v2/assets/{token_name.lower()}\"\n",
    "    response = requests.get(url)\n",
    "    if response.status_code == 200:\n",
    "        data = response.json()\n",
    "        return data\n",
    "    else:\n",
    "        print(f\"Error: {response.status_code}\")\n",
    "        return response.text\n",
    "    "
   ]
  },
  {
   "cell_type": "code",
   "execution_count": 14,
   "metadata": {},
   "outputs": [],
   "source": [
    "import json\n",
    "\n",
    "def show_json(message,obj):\n",
    "    display(json.loads(message, obj.model_dump_json()))"
   ]
  },
  {
   "cell_type": "code",
   "execution_count": 15,
   "metadata": {},
   "outputs": [],
   "source": [
    "from openai.types.beta.assistant import Assistant\n",
    "\n",
    "assistant: Assistant = client.beta.assistants.create(\n",
    "    model=\"gpt-3.5-turbo-1106\",\n",
    "    tools=[{\n",
    "        \"type\":\"function\",\n",
    "        \"function\": {\n",
    "            \"name\" : \"get_crypto\",\n",
    "            \"description\": \"get the priceUsd of token_name\",\n",
    "            \"parameters\":{\n",
    "                \"type\":\"object\",\n",
    "                \"properties\": {\n",
    "                    \"token_name\": {\"type\":\"string\", \"description\": \"The token price in usd e.g. 29.98\"},\n",
    "                    \"priceUsd\": {\"type\":\"string\"}     \n",
    "                },\n",
    "                \"required\":[\"token_name\"]\n",
    "            }\n",
    "        }\n",
    "        \n",
    "    }]\n",
    ")"
   ]
  },
  {
   "cell_type": "code",
   "execution_count": 16,
   "metadata": {},
   "outputs": [
    {
     "data": {
      "text/plain": [
       "Run(id='run_oXSHsUa37Qv6nUZczElOgvtA', assistant_id='asst_REPV29h9lzJmGzDrd3KwKuIs', cancelled_at=None, completed_at=None, created_at=1702766722, expires_at=1702767322, failed_at=None, file_ids=[], instructions=None, last_error=None, metadata={}, model='gpt-3.5-turbo-1106', object='thread.run', required_action=None, started_at=None, status='queued', thread_id='thread_PjZdAiAbNyp2rp3vEv5kSC0R', tools=[ToolAssistantToolsFunction(function=FunctionDefinition(name='get_crypto', parameters={'type': 'object', 'properties': {'token_name': {'type': 'string', 'description': 'The token price in usd e.g. 29.98'}, 'priceUsd': {'type': 'string'}}, 'required': ['token_name']}, description='get the priceUsd of token_name'), type='function')])"
      ]
     },
     "metadata": {},
     "output_type": "display_data"
    }
   ],
   "source": [
    "from openai.types.beta.thread import Thread\n",
    "from openai.types.beta.threads.thread_message import ThreadMessage\n",
    "from openai.types.beta.threads.run import Run\n",
    "\n",
    "thread: Thread = client.beta.threads.create()\n",
    "\n",
    "message: ThreadMessage = client.beta.threads.messages.create(\n",
    "    thread_id=thread.id,\n",
    "    role=\"user\",\n",
    "    content=\"Whats the usd price of bitcoin?\"\n",
    ")\n",
    "\n",
    "run:Run = client.beta.threads.runs.create(\n",
    "    assistant_id=assistant.id,\n",
    "    thread_id=thread.id,\n",
    ")\n",
    "display(run)\n",
    "\n"
   ]
  },
  {
   "cell_type": "code",
   "execution_count": 17,
   "metadata": {},
   "outputs": [
    {
     "name": "stdout",
     "output_type": "stream",
     "text": [
      "in_progress ......\n",
      "Run is queued. Waiting...\n",
      "requires_action ......\n",
      "Run is queued. Waiting...\n",
      "requires_action ......\n",
      "Run is queued. Waiting...\n",
      "requires_action ......\n",
      "Run is queued. Waiting...\n",
      "requires_action ......\n",
      "Run is queued. Waiting...\n",
      "requires_action ......\n",
      "Run is queued. Waiting...\n",
      "requires_action ......\n",
      "Run is queued. Waiting...\n",
      "requires_action ......\n",
      "Run is queued. Waiting...\n",
      "requires_action ......\n",
      "Run is queued. Waiting...\n"
     ]
    },
    {
     "ename": "KeyboardInterrupt",
     "evalue": "",
     "output_type": "error",
     "traceback": [
      "\u001b[0;31m---------------------------------------------------------------------------\u001b[0m",
      "\u001b[0;31mKeyboardInterrupt\u001b[0m                         Traceback (most recent call last)",
      "Cell \u001b[0;32mIn[17], line 60\u001b[0m\n\u001b[1;32m     58\u001b[0m \u001b[38;5;28;01melif\u001b[39;00m run\u001b[38;5;241m.\u001b[39mstatus \u001b[38;5;129;01min\u001b[39;00m [\u001b[38;5;124m\"\u001b[39m\u001b[38;5;124min_progress\u001b[39m\u001b[38;5;124m\"\u001b[39m, \u001b[38;5;124m\"\u001b[39m\u001b[38;5;124mqueued\u001b[39m\u001b[38;5;124m\"\u001b[39m]:\n\u001b[1;32m     59\u001b[0m   \u001b[38;5;28mprint\u001b[39m(\u001b[38;5;124mf\u001b[39m\u001b[38;5;124m\"\u001b[39m\u001b[38;5;124mRun is \u001b[39m\u001b[38;5;132;01m{\u001b[39;00mrun\u001b[38;5;241m.\u001b[39mstatus\u001b[38;5;132;01m}\u001b[39;00m\u001b[38;5;124m. Waiting...\u001b[39m\u001b[38;5;124m\"\u001b[39m)\n\u001b[0;32m---> 60\u001b[0m   \u001b[43mtime\u001b[49m\u001b[38;5;241;43m.\u001b[39;49m\u001b[43msleep\u001b[49m\u001b[43m(\u001b[49m\u001b[38;5;241;43m5\u001b[39;49m\u001b[43m)\u001b[49m  \u001b[38;5;66;03m# Wait for 5 seconds before checking again\u001b[39;00m\n\u001b[1;32m     62\u001b[0m \u001b[38;5;28;01melse\u001b[39;00m:\n\u001b[1;32m     63\u001b[0m   \u001b[38;5;28mprint\u001b[39m(\u001b[38;5;124mf\u001b[39m\u001b[38;5;124m\"\u001b[39m\u001b[38;5;124mUnexpected status: \u001b[39m\u001b[38;5;132;01m{\u001b[39;00mrun\u001b[38;5;241m.\u001b[39mstatus\u001b[38;5;132;01m}\u001b[39;00m\u001b[38;5;124m\"\u001b[39m)\n",
      "\u001b[0;31mKeyboardInterrupt\u001b[0m: "
     ]
    }
   ],
   "source": [
    "import time\n",
    "\n",
    "available_function = {\"get_crypto\": get_crypto}\n",
    "\n",
    "while True:\n",
    "    runStatus = client.beta.threads.runs.retrieve(thread_id=thread.id, run_id=run.id)\n",
    "    runSteps = client.beta.threads.runs.steps.list(thread_id=thread.id, run_id=run.id)\n",
    "    print(runStatus.status, \"......\")\n",
    "    \n",
    "    if runStatus == \"requires_action\":\n",
    "        print(runStatus.status,'.....')\n",
    "        print(\"status :\",\"requires_action!\")\n",
    "        show_json(\"submit_tool_outputs\", runStatus.required_action)\n",
    "        \n",
    "        if runStatus.required_action.submit_tool_outputs and runStatus.required_action.submit_tool_outputs.tool_calls:\n",
    "            print(\"toolCalls presents\")\n",
    "            toolCalls = runStatus.required_action.submit_tool_outputs.tool_calls\n",
    "            \n",
    "            tool_outputs = []\n",
    "            for toolCall in toolCalls:\n",
    "                function_name = toolCall.function.name\n",
    "                function_args = json.loads(toolCall.function.arguments)\n",
    "                \n",
    "                if function_name in available_function:\n",
    "                    function_to_call = available_function[function_name]\n",
    "                    print(function_to_call,function_to_call.__name__==\"get_crypto\",\"================================================================\")\n",
    "                    \n",
    "                    if function_to_call.__name__ == \"get_crypto\":\n",
    "                        response = function_to_call(\n",
    "                            token_name=function_args.get(\"token_name\")\n",
    "                            )\n",
    "                        \n",
    "                        tool_outputs.append({\n",
    "                            \"tool_call_id\":toolCall.id,\n",
    "                            \"output\":response})\n",
    "                        \n",
    "            print(tool_outputs,\">>>>>>>>\")\n",
    "            # Submit tool outputs and update the run\n",
    "            client.beta.threads.runs.submit_tool_outputs(\n",
    "                thread_id=thread.id,\n",
    "                run_id=run.id,\n",
    "                tool_outputs=tool_outputs)\n",
    "            \n",
    "    elif runStatus.status == \"completed\":\n",
    "        # List the messages to get the response\n",
    "        print(\"completed...........logic\")\n",
    "        messages: list[ThreadMessage] = client.beta.threads.messages.list(thread_id=thread.id)\n",
    "        for message in messages.data:\n",
    "            role_label = \"User\" if message.role == \"user\" else \"Assistant\"\n",
    "            message_content = message.content[0].text.value\n",
    "            print(f\"{role_label}: {message_content}\\n\")\n",
    "        break  # Exit the loop after processing the completed run\n",
    "\n",
    "    elif run.status == \"failed\":\n",
    "      print(\"Run failed.\")\n",
    "      break\n",
    "\n",
    "    elif run.status in [\"in_progress\", \"queued\"]:\n",
    "      print(f\"Run is {run.status}. Waiting...\")\n",
    "      time.sleep(5)  # Wait for 5 seconds before checking again\n",
    "\n",
    "    else:\n",
    "      print(f\"Unexpected status: {run.status}\")\n",
    "      break\n",
    "            \n",
    "                        \n",
    "                    "
   ]
  }
 ],
 "metadata": {
  "kernelspec": {
   "display_name": "python12",
   "language": "python",
   "name": "python3"
  },
  "language_info": {
   "codemirror_mode": {
    "name": "ipython",
    "version": 3
   },
   "file_extension": ".py",
   "mimetype": "text/x-python",
   "name": "python",
   "nbconvert_exporter": "python",
   "pygments_lexer": "ipython3",
   "version": "3.12.0"
  }
 },
 "nbformat": 4,
 "nbformat_minor": 2
}
