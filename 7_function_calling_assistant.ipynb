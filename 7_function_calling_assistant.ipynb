{
 "cells": [
  {
   "cell_type": "markdown",
   "metadata": {},
   "source": [
    "## 1: Create Client"
   ]
  },
  {
   "cell_type": "code",
   "execution_count": 60,
   "metadata": {},
   "outputs": [],
   "source": [
    "from openai import OpenAI\n",
    "from dotenv import load_dotenv, find_dotenv\n",
    "\n",
    "_ : bool = load_dotenv(find_dotenv())\n",
    "\n",
    "client: OpenAI = OpenAI()"
   ]
  },
  {
   "cell_type": "markdown",
   "metadata": {},
   "source": [
    "## 2: Define Functions"
   ]
  },
  {
   "cell_type": "code",
   "execution_count": 62,
   "metadata": {},
   "outputs": [],
   "source": [
    "import requests\n",
    "\n",
    "#user_input = input(\"Enter your crypto name\")\n",
    "\n",
    "def get_crypto(token_name:str):\n",
    "    \n",
    "    url = f\"https://api.coincap.io/v2/assets/{token_name.lower()}\"\n",
    "    response = requests.get(url)\n",
    "    if response.status_code == 200:\n",
    "        data = response.json()\n",
    "        return data\n",
    "    else:\n",
    "        print(f\"Error: {response.status_code}\")\n",
    "        return response.text\n",
    "    "
   ]
  },
  {
   "cell_type": "code",
   "execution_count": 63,
   "metadata": {},
   "outputs": [],
   "source": [
    "import json\n",
    "\n",
    "def show_json(message,obj):\n",
    "    display(json.loads(message, obj.model_dump_json()))"
   ]
  },
  {
   "cell_type": "code",
   "execution_count": 64,
   "metadata": {},
   "outputs": [],
   "source": [
    "from openai.types.beta.assistant import Assistant\n",
    "\n",
    "assistant: Assistant = client.beta.assistants.create(\n",
    "    model=\"gpt-3.5-turbo-1106\",\n",
    "    tools=[{\n",
    "        \"type\":\"function\",\n",
    "        \"function\": {\n",
    "            \"name\" : \"get_crypto\",\n",
    "            \"description\": \"get the priceUsd of token_name\",\n",
    "            \"parameters\":{\n",
    "                \"type\":\"object\",\n",
    "                \"properties\": {\n",
    "                    \"token_name\": {\"type\":\"string\", \"description\": \"The token price in usd e.g. 29.98\"},\n",
    "                    \"priceUsd\": {\"type\":\"string\"}     \n",
    "                },\n",
    "                \"required\":\"token_name\"\n",
    "            }\n",
    "        }\n",
    "        \n",
    "    }]\n",
    ")"
   ]
  },
  {
   "cell_type": "code",
   "execution_count": 66,
   "metadata": {},
   "outputs": [
    {
     "data": {
      "text/plain": [
       "Run(id='run_DN7NlUNwn4lBiZ066VjIezg8', assistant_id='asst_EqbpyXnZFCuMwXyZsilScwjy', cancelled_at=None, completed_at=None, created_at=1702690566, expires_at=1702691166, failed_at=None, file_ids=[], instructions=None, last_error=None, metadata={}, model='gpt-3.5-turbo-1106', object='thread.run', required_action=None, started_at=None, status='queued', thread_id='thread_syx4Il6Ec7jDXSSI0XyStXxd', tools=[ToolAssistantToolsFunction(function=FunctionDefinition(name='get_crypto', parameters={'type': 'object', 'properties': {'token_name': {'type': 'string', 'description': 'The token price in usd e.g. 29.98'}}}, description='get the priceUsd of token_name'), type='function')])"
      ]
     },
     "metadata": {},
     "output_type": "display_data"
    }
   ],
   "source": [
    "from openai.types.beta.thread import Thread\n",
    "from openai.types.beta.threads.thread_message import ThreadMessage\n",
    "from openai.types.beta.threads.run import Run\n",
    "\n",
    "thread: Thread = client.beta.threads.create()\n",
    "\n",
    "message: ThreadMessage = client.beta.threads.messages.create(\n",
    "    thread_id=thread.id,\n",
    "    role=\"user\",\n",
    "    content=\"Whats the usd price of bitcoin?\"\n",
    ")\n",
    "\n",
    "run:Run = client.beta.threads.runs.create(\n",
    "    assistant_id=assistant.id,\n",
    "    thread_id=thread.id,\n",
    ")\n",
    "display(run)\n",
    "\n"
   ]
  },
  {
   "cell_type": "code",
   "execution_count": null,
   "metadata": {},
   "outputs": [],
   "source": [
    "import time\n",
    "\n",
    "available_function = {\"get_crypto\": get_crypto}\n",
    "\n",
    "while True:\n",
    "    runStatus = client.beta.threads.runs.retrieve(thread_id=thread.id, run_id=run.id)\n",
    "    runSteps = client.beta.threads.runs.steps.list(thread_id=thread.id, run_id=run.id)\n",
    "    print(runStatus.status, \"......\")\n",
    "    \n",
    "    if runStatus == \"action_required\":\n",
    "        print(runStatus.status,'.....')\n",
    "        "
   ]
  }
 ],
 "metadata": {
  "kernelspec": {
   "display_name": "python12",
   "language": "python",
   "name": "python3"
  },
  "language_info": {
   "codemirror_mode": {
    "name": "ipython",
    "version": 3
   },
   "file_extension": ".py",
   "mimetype": "text/x-python",
   "name": "python",
   "nbconvert_exporter": "python",
   "pygments_lexer": "ipython3",
   "version": "3.12.0"
  }
 },
 "nbformat": 4,
 "nbformat_minor": 2
}
