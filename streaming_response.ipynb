{
 "cells": [
  {
   "cell_type": "markdown",
   "metadata": {},
   "source": [
    "# Creating Client and Loading .env"
   ]
  },
  {
   "cell_type": "code",
   "execution_count": 2,
   "metadata": {},
   "outputs": [],
   "source": [
    "from openai import OpenAI \n",
    "from dotenv import load_dotenv, find_dotenv\n",
    "\n",
    "_ : bool = load_dotenv(find_dotenv())\n",
    "client : OpenAI = OpenAI()"
   ]
  },
  {
   "cell_type": "markdown",
   "metadata": {},
   "source": [
    "## Streaming in Openai "
   ]
  },
  {
   "cell_type": "code",
   "execution_count": 12,
   "metadata": {},
   "outputs": [
    {
     "name": "stdout",
     "output_type": "stream",
     "text": [
      "\n",
      "a\n",
      " b\n",
      " c\n",
      " d\n",
      " e\n",
      " f\n",
      " g\n",
      " h\n",
      " i\n",
      " j\n",
      " k\n",
      " l\n",
      " m\n",
      " n\n",
      " o\n",
      " p\n",
      " q\n",
      " r\n",
      " s\n",
      " t\n",
      " u\n",
      " v\n",
      " w\n",
      " x\n",
      " y\n",
      " z\n",
      "\n"
     ]
    }
   ],
   "source": [
    "from openai.types.chat.chat_completion import ChatCompletion\n",
    "prompt :str = \"type all English alphabatic charachters\"\n",
    "#def chat_completion(prompt: str)->str:\n",
    "completion: ChatCompletion = client.chat.completions.create(\n",
    "        model=\"gpt-3.5-turbo-1106\",\n",
    "        messages= [\n",
    "                   {\"role\": \"user\", \"content\": f\"{prompt}\"}] ,\n",
    "                   stream=True             \n",
    "    )\n",
    "\n",
    "for part in completion:\n",
    "    print(part.choices[0].delta.content or \"\")\n",
    "#print(chat_completion(prompt))"
   ]
  }
 ],
 "metadata": {
  "kernelspec": {
   "display_name": "py3_11",
   "language": "python",
   "name": "python3"
  },
  "language_info": {
   "codemirror_mode": {
    "name": "ipython",
    "version": 3
   },
   "file_extension": ".py",
   "mimetype": "text/x-python",
   "name": "python",
   "nbconvert_exporter": "python",
   "pygments_lexer": "ipython3",
   "version": "3.11.5"
  }
 },
 "nbformat": 4,
 "nbformat_minor": 2
}
