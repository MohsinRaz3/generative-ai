{
 "cells": [
  {
   "cell_type": "markdown",
   "metadata": {},
   "source": [
    "# Creating Client and Loading .env"
   ]
  },
  {
   "cell_type": "code",
   "execution_count": 2,
   "metadata": {},
   "outputs": [],
   "source": [
    "from openai import OpenAI \n",
    "from dotenv import load_dotenv, find_dotenv\n",
    "\n",
    "_ : bool = load_dotenv(find_dotenv())\n",
    "client : OpenAI = OpenAI()"
   ]
  },
  {
   "cell_type": "markdown",
   "metadata": {},
   "source": [
    "## Streaming in Openai "
   ]
  },
  {
   "cell_type": "code",
   "execution_count": 7,
   "metadata": {},
   "outputs": [
    {
     "name": "stdout",
     "output_type": "stream",
     "text": [
      "You can create a list in Python using square brackets and separating the elements with commas. Once you have a list, you can loop through its items using a loop construct. Here's an example:\n",
      "\n",
      "```python\n",
      "# creating a list\n",
      "my_list = [1, 2, 3, 4, 5]\n",
      "\n",
      "# looping through the list items\n",
      "for item in my_list:\n",
      "    print(item)\n",
      "```\n",
      "\n",
      "In this example, the `for` loop iterates through each item in the `my_list` and prints each item. You can perform any operation inside the loop based on your requirements.\n"
     ]
    }
   ],
   "source": [
    "from openai.types.chat.chat_completion import ChatCompletion\n",
    "prompt :str = \"how to create list and loop through list items in python?\"\n",
    "def chat_completion(prompt: str)->str:\n",
    "    completion: ChatCompletion = client.chat.completions.create(\n",
    "        model=\"gpt-3.5-turbo-1106\",\n",
    "        messages= [{\"role\": \"system\", \"content\":\"You're a helpful python developer.\"},\n",
    "                   {\"role\": \"user\", \"content\": f\"{prompt}\"}] ,\n",
    "                   stream=True             \n",
    "    )\n",
    "    return completion.choices[0].message.content\n",
    "print(chat_completion(prompt))"
   ]
  }
 ],
 "metadata": {
  "kernelspec": {
   "display_name": "py3_11",
   "language": "python",
   "name": "python3"
  },
  "language_info": {
   "codemirror_mode": {
    "name": "ipython",
    "version": 3
   },
   "file_extension": ".py",
   "mimetype": "text/x-python",
   "name": "python",
   "nbconvert_exporter": "python",
   "pygments_lexer": "ipython3",
   "version": "3.11.5"
  }
 },
 "nbformat": 4,
 "nbformat_minor": 2
}
