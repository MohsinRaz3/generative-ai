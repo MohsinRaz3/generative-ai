{
 "cells": [
  {
   "cell_type": "markdown",
   "metadata": {},
   "source": [
    "# Creating Client and Loading .env"
   ]
  },
  {
   "cell_type": "code",
   "execution_count": 1,
   "metadata": {},
   "outputs": [],
   "source": [
    "from openai import OpenAI \n",
    "from dotenv import load_dotenv, find_dotenv\n",
    "\n",
    "_ : bool = load_dotenv(find_dotenv())\n",
    "client : OpenAI = OpenAI()"
   ]
  },
  {
   "cell_type": "markdown",
   "metadata": {},
   "source": [
    "## Streaming in Openai "
   ]
  },
  {
   "cell_type": "code",
   "execution_count": 7,
   "metadata": {},
   "outputs": [
    {
     "name": "stdout",
     "output_type": "stream",
     "text": [
      "\n",
      "Sure\n",
      ",\n",
      " here\n",
      " are\n",
      " all\n",
      " the\n",
      " English\n",
      " alphabetical\n",
      " characters\n",
      ":\n",
      "\n",
      "\n",
      "A\n",
      " B\n",
      " C\n",
      " D\n",
      " E\n",
      " F\n",
      " G\n",
      " H\n",
      " I\n",
      " J\n",
      " K\n",
      " L\n",
      " M\n",
      " N\n",
      " O\n",
      " P\n",
      " Q\n",
      " R\n",
      " S\n",
      " T\n",
      " U\n",
      " V\n",
      " W\n",
      " X\n",
      " Y\n",
      " Z\n",
      "\n"
     ]
    }
   ],
   "source": [
    "from openai.types.chat.chat_completion import ChatCompletion\n",
    "prompt :str = \"type all English alphabatic charachters\"\n",
    "#def chat_completion(prompt: str)->str:\n",
    "completion: ChatCompletion = client.chat.completions.create(\n",
    "        model=\"gpt-3.5-turbo-1106\",\n",
    "        messages= [{\"role\": \"system\", \"content\":\"You are an english teacher\"},\n",
    "                   {\"role\": \"user\", \"content\": f\"{prompt}\"}] ,\n",
    "                   stream=True             \n",
    "    )\n",
    "\n",
    "\n",
    "for part in completion:\n",
    "    print(part.choices[0].delta.content or \"\")\n",
    "   \n",
    "\n"
   ]
  }
 ],
 "metadata": {
  "kernelspec": {
   "display_name": "py3_11",
   "language": "python",
   "name": "python3"
  },
  "language_info": {
   "codemirror_mode": {
    "name": "ipython",
    "version": 3
   },
   "file_extension": ".py",
   "mimetype": "text/x-python",
   "name": "python",
   "nbconvert_exporter": "python",
   "pygments_lexer": "ipython3",
   "version": "3.11.5"
  }
 },
 "nbformat": 4,
 "nbformat_minor": 2
}
