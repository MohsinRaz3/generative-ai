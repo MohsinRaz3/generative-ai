{
 "cells": [
  {
   "cell_type": "markdown",
   "metadata": {},
   "source": [
    "## Create Client and load .env"
   ]
  },
  {
   "cell_type": "code",
   "execution_count": 2,
   "metadata": {},
   "outputs": [],
   "source": [
    "from openai import OpenAI\n",
    "from dotenv import load_dotenv, find_dotenv\n",
    "\n",
    "_ : bool = load_dotenv(find_dotenv()) # read local .env file\n",
    "\n",
    "client : OpenAI = OpenAI()"
   ]
  },
  {
   "cell_type": "markdown",
   "metadata": {},
   "source": [
    "## Chat_Completion define multiple roles "
   ]
  },
  {
   "cell_type": "code",
   "execution_count": 3,
   "metadata": {},
   "outputs": [
    {
     "data": {
      "text/plain": [
       "\"Total tokens usage:  {'completion_tokens': 114, 'prompt_tokens': 31, 'total_tokens': 145}\""
      ]
     },
     "metadata": {},
     "output_type": "display_data"
    },
    {
     "name": "stdout",
     "output_type": "stream",
     "text": [
      "You can write a while True loop in Python like this:\n",
      "\n",
      "```python\n",
      "while True:\n",
      "    # code block to be repeated indefinitely\n",
      "    # Make sure to include a condition or a break statement inside the loop to prevent it from running indefinitely\n",
      "    # for example:\n",
      "    user_input = input(\"Enter 'quit' to exit: \")\n",
      "    if user_input == \"quit\":\n",
      "        break\n",
      "```\n",
      "\n",
      "Note: Using a while True loop can lead to an infinite loop if not used carefully. Always include a condition or a break statement to exit the loop when necessary.\n"
     ]
    }
   ],
   "source": [
    "from openai.types.chat.chat_completion import ChatCompletion\n",
    "\n",
    "def chat_completion()->str:\n",
    "    completion: ChatCompletion = client.chat.completions.create(\n",
    "        model=\"gpt-3.5-turbo-1106\",\n",
    "        messages=[\n",
    "            {\"role\":\"system\", \"content\":\"You're a python developer, answer every python related question.\"}, \n",
    "            {\"role\": \"user\", \"content\":\"how to write while true code in python\"}\n",
    "        ]\n",
    "    )\n",
    "    display(f\"Total tokens usage:  {dict(completion.usage)}\")\n",
    "    return completion.choices[0].message.content\n",
    "print(chat_completion())"
   ]
  },
  {
   "cell_type": "code",
   "execution_count": 6,
   "metadata": {},
   "outputs": [
    {
     "name": "stdout",
     "output_type": "stream",
     "text": [
      "hello\t => Type quit to exit!\n",
      "what\t => Type quit to exit!\n",
      "ok\t => Type quit to exit!\n",
      "bye\t => Type quit to exit!\n",
      "bye'\t => Type quit to exit!\n"
     ]
    }
   ],
   "source": [
    "while True:\n",
    "    user_input: str = input(\"enter quit to exit\")\n",
    "    if user_input == \"quit\":\n",
    "        break\n",
    "    else:\n",
    "        print(f\"{user_input}\\t => Type quit to exit!\")"
   ]
  }
 ],
 "metadata": {
  "kernelspec": {
   "display_name": "py3_11",
   "language": "python",
   "name": "python3"
  },
  "language_info": {
   "codemirror_mode": {
    "name": "ipython",
    "version": 3
   },
   "file_extension": ".py",
   "mimetype": "text/x-python",
   "name": "python",
   "nbconvert_exporter": "python",
   "pygments_lexer": "ipython3",
   "version": "3.12.0"
  }
 },
 "nbformat": 4,
 "nbformat_minor": 2
}
