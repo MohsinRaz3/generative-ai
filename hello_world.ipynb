{
 "cells": [
  {
   "cell_type": "markdown",
   "metadata": {},
   "source": [
    "## Create Client and load .env"
   ]
  },
  {
   "cell_type": "code",
   "execution_count": 4,
   "metadata": {},
   "outputs": [],
   "source": [
    "from openai import OpenAI\n",
    "from dotenv import load_dotenv, find_dotenv\n",
    "\n",
    "_ : bool = load_dotenv(find_dotenv()) # read local .env file\n",
    "\n",
    "client : OpenAI = OpenAI()"
   ]
  },
  {
   "cell_type": "markdown",
   "metadata": {},
   "source": [
    "## Chat_Completion define multiple roles "
   ]
  },
  {
   "cell_type": "code",
   "execution_count": 12,
   "metadata": {},
   "outputs": [
    {
     "ename": "TypeError",
     "evalue": "'int' object is not iterable",
     "output_type": "error",
     "traceback": [
      "\u001b[0;31m---------------------------------------------------------------------------\u001b[0m",
      "\u001b[0;31mTypeError\u001b[0m                                 Traceback (most recent call last)",
      "\u001b[1;32m/home/mrk/Desktop/generative-ai/hello_world.ipynb Cell 4\u001b[0m line \u001b[0;36m1\n\u001b[1;32m     <a href='vscode-notebook-cell:/home/mrk/Desktop/generative-ai/hello_world.ipynb#W3sZmlsZQ%3D%3D?line=10'>11</a>\u001b[0m     display(\u001b[39mf\u001b[39m\u001b[39m\"\u001b[39m\u001b[39mTotal tokens usage:\u001b[39m\u001b[39m\"\u001b[39m , {\u001b[39mdict\u001b[39m(json\u001b[39m.\u001b[39mloads(\u001b[39mstr\u001b[39m(completion\u001b[39m.\u001b[39musage\u001b[39m.\u001b[39mtotal_tokens)))})\n\u001b[1;32m     <a href='vscode-notebook-cell:/home/mrk/Desktop/generative-ai/hello_world.ipynb#W3sZmlsZQ%3D%3D?line=11'>12</a>\u001b[0m     \u001b[39mreturn\u001b[39;00m completion\u001b[39m.\u001b[39mchoices[\u001b[39m0\u001b[39m]\u001b[39m.\u001b[39mmessage\u001b[39m.\u001b[39mcontent\n\u001b[0;32m---> <a href='vscode-notebook-cell:/home/mrk/Desktop/generative-ai/hello_world.ipynb#W3sZmlsZQ%3D%3D?line=12'>13</a>\u001b[0m \u001b[39mprint\u001b[39m(chat_completion())\n",
      "\u001b[1;32m/home/mrk/Desktop/generative-ai/hello_world.ipynb Cell 4\u001b[0m line \u001b[0;36m1\n\u001b[1;32m      <a href='vscode-notebook-cell:/home/mrk/Desktop/generative-ai/hello_world.ipynb#W3sZmlsZQ%3D%3D?line=2'>3</a>\u001b[0m \u001b[39mdef\u001b[39;00m \u001b[39mchat_completion\u001b[39m()\u001b[39m-\u001b[39m\u001b[39m>\u001b[39m\u001b[39mstr\u001b[39m:\n\u001b[1;32m      <a href='vscode-notebook-cell:/home/mrk/Desktop/generative-ai/hello_world.ipynb#W3sZmlsZQ%3D%3D?line=3'>4</a>\u001b[0m     completion: ChatCompletion \u001b[39m=\u001b[39m client\u001b[39m.\u001b[39mchat\u001b[39m.\u001b[39mcompletions\u001b[39m.\u001b[39mcreate(\n\u001b[1;32m      <a href='vscode-notebook-cell:/home/mrk/Desktop/generative-ai/hello_world.ipynb#W3sZmlsZQ%3D%3D?line=4'>5</a>\u001b[0m         model\u001b[39m=\u001b[39m\u001b[39m\"\u001b[39m\u001b[39mgpt-3.5-turbo-1106\u001b[39m\u001b[39m\"\u001b[39m,\n\u001b[1;32m      <a href='vscode-notebook-cell:/home/mrk/Desktop/generative-ai/hello_world.ipynb#W3sZmlsZQ%3D%3D?line=5'>6</a>\u001b[0m         messages\u001b[39m=\u001b[39m[\n\u001b[0;32m   (...)\u001b[0m\n\u001b[1;32m      <a href='vscode-notebook-cell:/home/mrk/Desktop/generative-ai/hello_world.ipynb#W3sZmlsZQ%3D%3D?line=8'>9</a>\u001b[0m         ]\n\u001b[1;32m     <a href='vscode-notebook-cell:/home/mrk/Desktop/generative-ai/hello_world.ipynb#W3sZmlsZQ%3D%3D?line=9'>10</a>\u001b[0m     )\n\u001b[0;32m---> <a href='vscode-notebook-cell:/home/mrk/Desktop/generative-ai/hello_world.ipynb#W3sZmlsZQ%3D%3D?line=10'>11</a>\u001b[0m     display(\u001b[39mf\u001b[39m\u001b[39m\"\u001b[39m\u001b[39mTotal tokens usage:\u001b[39m\u001b[39m\"\u001b[39m , {\u001b[39mdict\u001b[39;49m(json\u001b[39m.\u001b[39;49mloads(\u001b[39mstr\u001b[39;49m(completion\u001b[39m.\u001b[39;49musage\u001b[39m.\u001b[39;49mtotal_tokens)))})\n\u001b[1;32m     <a href='vscode-notebook-cell:/home/mrk/Desktop/generative-ai/hello_world.ipynb#W3sZmlsZQ%3D%3D?line=11'>12</a>\u001b[0m     \u001b[39mreturn\u001b[39;00m completion\u001b[39m.\u001b[39mchoices[\u001b[39m0\u001b[39m]\u001b[39m.\u001b[39mmessage\u001b[39m.\u001b[39mcontent\n",
      "\u001b[0;31mTypeError\u001b[0m: 'int' object is not iterable"
     ]
    }
   ],
   "source": [
    "from openai.types.chat.chat_completion import ChatCompletion\n",
    "def chat_completion()->str:\n",
    "    completion: ChatCompletion = client.chat.completions.create(\n",
    "        model=\"gpt-3.5-turbo-1106\",\n",
    "        messages=[\n",
    "            {\"role\":\"system\", \"content\":\"You're a python developer, answer every python related question.\"}, \n",
    "            {\"role\": \"user\", \"content\":\"how to print pakistan in python\"}\n",
    "        ]\n",
    "    )\n",
    "    display(f\"Total tokens usage:  {dict(completion.usage)}\")\n",
    "    return completion.choices[0].message.content\n",
    "print(chat_completion())"
   ]
  }
 ],
 "metadata": {
  "kernelspec": {
   "display_name": "py3_11",
   "language": "python",
   "name": "python3"
  },
  "language_info": {
   "codemirror_mode": {
    "name": "ipython",
    "version": 3
   },
   "file_extension": ".py",
   "mimetype": "text/x-python",
   "name": "python",
   "nbconvert_exporter": "python",
   "pygments_lexer": "ipython3",
   "version": "3.11.5"
  }
 },
 "nbformat": 4,
 "nbformat_minor": 2
}
